{
 "cells": [
  {
   "cell_type": "markdown",
   "metadata": {},
   "source": [
    "## Logistic Regression from scratch\n",
    "\n",
    "This tutorial intend to understand basics of Pytorch library, especially the dataloaders, by coding by hand every piece of a Log regression model."
   ]
  },
  {
   "cell_type": "markdown",
   "metadata": {},
   "source": [
    "### Iris dataset as a CSV file to iterate over"
   ]
  },
  {
   "cell_type": "code",
   "execution_count": null,
   "metadata": {},
   "outputs": [],
   "source": [
    "import os\n",
    "import pandas as pd\n",
    "import numpy as np\n",
    "from sklearn import datasets\n",
    "from sklearn.preprocessing import OneHotEncoder\n",
    "if not os.path.isfile('iris.csv'):\n",
    "    iris = datasets.load_iris()\n",
    "    X = iris.data\n",
    "    y = iris.target\n",
    "    y=y.reshape(-1,1)\n",
    "    enc = OneHotEncoder(handle_unknown='ignore')\n",
    "    y = enc.fit_transform(y).toarray()\n",
    "    Xy = np.concatenate((X,y), axis=1)\n",
    "\n",
    "    headers=['SepalLengthCm', 'SepalWidthCm', 'PetalLengthCm', 'PetalWidthCm', 'Iris-Setosa', 'Iris-Versicolor', 'Iris-Virginica']\n",
    "    df = pd.DataFrame(Xy, columns=headers)\n",
    "\n",
    "    df.to_csv('iris.csv', index=False, header=headers)\n",
    "else:\n",
    "    print('iris.csv exists')"
   ]
  },
  {
   "cell_type": "markdown",
   "metadata": {},
   "source": [
    "### Pytorch Dataset type class to be fed into Pytorch dataloader"
   ]
  },
  {
   "cell_type": "code",
   "execution_count": null,
   "metadata": {},
   "outputs": [],
   "source": [
    "import torch\n",
    "from torch.utils.data import Dataset, DataLoader, random_split\n",
    "\n",
    "def get_iris_labels(labels):\n",
    "    text_labels = ['setosa', 'versicolour', 'virginica']\n",
    "    return [text_labels[int(i)] for i in labels]\n",
    "\n",
    "class MyIrisDataset(Dataset):\n",
    "    def __init__(self, csv_file_path='iris.csv'):\n",
    "        self.data = pd.read_csv(csv_file_path).astype('float32')\n",
    "    \n",
    "    def __len__(self):\n",
    "        return len(self.data)\n",
    "    \n",
    "    def __getitem__(self, idx):\n",
    "        if torch.is_tensor(idx):\n",
    "            idx = idx.tolist()\n",
    "        datapoint = self.data.iloc[idx].to_numpy()\n",
    "        return {'X':datapoint[:-3], 'y_hat':datapoint[-3:]}\n",
    "    \n",
    "d = MyIrisDataset('iris.csv')"
   ]
  },
  {
   "cell_type": "markdown",
   "metadata": {},
   "source": [
    "### Pytorch Dataloader to iterate over Pytorch dataloader"
   ]
  },
  {
   "cell_type": "code",
   "execution_count": null,
   "metadata": {},
   "outputs": [],
   "source": [
    "batch_size=8\n",
    "\n",
    "train, test = random_split(d, [int(0.8*len(d)),int(0.2*len(d))])\n",
    "\n",
    "train_loader = DataLoader(train, batch_size=batch_size,\n",
    "                        shuffle=False, num_workers=4)\n",
    "\n",
    "test_loader = DataLoader(test, batch_size=batch_size,\n",
    "                        shuffle=False, num_workers=4)\n",
    "\n",
    "for i_batch, Xy in enumerate(test_loader):\n",
    "    print(Xy['X'])\n",
    "    print(Xy['y_hat'])\n",
    "    break\n"
   ]
  },
  {
   "cell_type": "code",
   "execution_count": null,
   "metadata": {},
   "outputs": [],
   "source": [
    "num_inputs = 4\n",
    "num_outputs = 3\n",
    "W = torch.normal(0, 0.01,(num_inputs, num_outputs),requires_grad=True)\n",
    "b = torch.zeros(num_outputs,requires_grad=True)"
   ]
  },
  {
   "cell_type": "code",
   "execution_count": null,
   "metadata": {},
   "outputs": [],
   "source": [
    "def accuracy(y_hat, preds):\n",
    "    acc = (torch.argmax(y_hat, 1)==torch.argmax(preds, 1))\n",
    "    return (torch.mean(acc.float()))\n",
    "\n",
    "def cross_entropy(y_hat, y):\n",
    "    return -torch.sum(y_hat*torch.log(y), 1).view(-1,1).mean()\n",
    "    \n",
    "def softmax(X):\n",
    "    X_exp = torch.exp(X)\n",
    "    X_exp_sum = torch.sum(X_exp, 1).view(-1, 1)\n",
    "    return X_exp / X_exp_sum\n",
    "\n",
    "def model(X):\n",
    "    # Simple Logistic(softmax) regression model\n",
    "    return X @ W + b"
   ]
  },
  {
   "cell_type": "code",
   "execution_count": null,
   "metadata": {},
   "outputs": [],
   "source": [
    "for epoch in range(1, 201):\n",
    "    for i_batch, Xy in enumerate(train_loader):\n",
    "        X = Xy['X']\n",
    "        y_hat = Xy['y_hat']\n",
    "        \n",
    "        preds = softmax(model(X))\n",
    "        loss = cross_entropy(y_hat, preds)\n",
    "        loss.backward()\n",
    "        with torch.no_grad():\n",
    "            W -= W.grad * 1e-2\n",
    "            b -= b.grad * 1e-2\n",
    "            W.grad.zero_()\n",
    "            b.grad.zero_()\n",
    "    if epoch % 15 == 0:\n",
    "        with torch.no_grad():\n",
    "            train_l = loss = cross_entropy(y_hat, softmax(model(X)))\n",
    "            acc = accuracy(y_hat, preds)\n",
    "            print('epoch %d, acc %f, loss %f' % (epoch, acc, train_l.mean().numpy()))"
   ]
  },
  {
   "cell_type": "code",
   "execution_count": null,
   "metadata": {},
   "outputs": [],
   "source": [
    "for epoch in range(1):    \n",
    "    acc = 0\n",
    "    loss = 0\n",
    "    for i_batch, Xy in enumerate(test_loader):\n",
    "        with torch.no_grad():\n",
    "            loss += cross_entropy(y_hat, softmax(model(X)))\n",
    "            acc += accuracy(y_hat, preds)\n",
    "    print('Test acc %f, loss %f' % (acc/(i_batch+1), loss.mean().numpy()/(i_batch+1)))"
   ]
  },
  {
   "cell_type": "code",
   "execution_count": null,
   "metadata": {},
   "outputs": [],
   "source": []
  },
  {
   "cell_type": "code",
   "execution_count": null,
   "metadata": {},
   "outputs": [],
   "source": []
  },
  {
   "cell_type": "code",
   "execution_count": null,
   "metadata": {},
   "outputs": [],
   "source": []
  }
 ],
 "metadata": {
  "kernelspec": {
   "display_name": "Python 3.6.10 64-bit ('pyt': conda)",
   "language": "python",
   "name": "python361064bitpytcondaa610e99d8b484ac489046a57979fc6d3"
  },
  "language_info": {
   "codemirror_mode": {
    "name": "ipython",
    "version": 3
   },
   "file_extension": ".py",
   "mimetype": "text/x-python",
   "name": "python",
   "nbconvert_exporter": "python",
   "pygments_lexer": "ipython3",
   "version": "3.6.10"
  }
 },
 "nbformat": 4,
 "nbformat_minor": 4
}
